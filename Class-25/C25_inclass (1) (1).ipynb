{
  "cells": [
    {
      "cell_type": "markdown",
      "id": "897e43fe",
      "metadata": {
        "id": "897e43fe"
      },
      "source": [
        "# C25 - Inclass Assignment"
      ]
    },
    {
      "cell_type": "markdown",
      "source": [
        ""
      ],
      "metadata": {
        "id": "wZ-z1SLRA5wX"
      },
      "id": "wZ-z1SLRA5wX"
    },
    {
      "cell_type": "markdown",
      "id": "b14a5454",
      "metadata": {
        "id": "b14a5454"
      },
      "source": [
        "## author & date\n",
        "\n",
        "- author: Akshar Patel\n",
        "- date: 4/13/2022\n"
      ]
    },
    {
      "cell_type": "markdown",
      "source": [
        "### Q1. Update author name and date."
      ],
      "metadata": {
        "id": "eSjX2V99-Y-M"
      },
      "id": "eSjX2V99-Y-M"
    },
    {
      "cell_type": "markdown",
      "source": [
        "\n",
        "\n",
        "---\n",
        "# STRING\n"
      ],
      "metadata": {
        "id": "nopKQ3ctBRLw"
      },
      "id": "nopKQ3ctBRLw"
    },
    {
      "cell_type": "markdown",
      "source": [
        "### Q2. A line of code to return \"price\" strings from `inflation` variable "
      ],
      "metadata": {
        "id": "ZdeIcCHq-m4s"
      },
      "id": "ZdeIcCHq-m4s"
    },
    {
      "cell_type": "code",
      "source": [
        "inflation = \"increase in price\""
      ],
      "metadata": {
        "id": "1UsXB6Gr-6dk"
      },
      "id": "1UsXB6Gr-6dk",
      "execution_count": 1,
      "outputs": []
    },
    {
      "cell_type": "code",
      "source": [
        "print(inflation[12:18])"
      ],
      "metadata": {
        "id": "MNjFfjR3_YsH",
        "colab": {
          "base_uri": "https://localhost:8080/"
        },
        "outputId": "e7a2a11e-1115-4d4a-e4bb-2cccf0ba19ed"
      },
      "id": "MNjFfjR3_YsH",
      "execution_count": 8,
      "outputs": [
        {
          "output_type": "stream",
          "name": "stdout",
          "text": [
            "price\n"
          ]
        }
      ]
    },
    {
      "cell_type": "markdown",
      "source": [
        "---\n",
        "# LIST\n",
        "\n",
        "- A list of comma-separated items between square brackets [ ]\n",
        "- Lists might contain items of different types\n",
        "- Mutable: it is possible to change their content\n"
      ],
      "metadata": {
        "id": "2aeUK61TBNjB"
      },
      "id": "2aeUK61TBNjB"
    },
    {
      "cell_type": "code",
      "source": [
        "# Run the following for Q3 and Q4\n",
        "price = [100, 200, 300, \"spike\"]"
      ],
      "metadata": {
        "id": "_Rg09pMkC5ei"
      },
      "id": "_Rg09pMkC5ei",
      "execution_count": 9,
      "outputs": []
    },
    {
      "cell_type": "markdown",
      "source": [
        "### Q3. A line of code to replace `\"spike\"` with `400`, and then print `price` variable to see the result "
      ],
      "metadata": {
        "id": "U7gVOt-7Clu9"
      },
      "id": "U7gVOt-7Clu9"
    },
    {
      "cell_type": "code",
      "source": [
        "price[3] = 400\n",
        "print(price)"
      ],
      "metadata": {
        "id": "c94fTPpODEvY",
        "colab": {
          "base_uri": "https://localhost:8080/"
        },
        "outputId": "82d0fa14-2614-4c55-c224-3ab01595202e"
      },
      "id": "c94fTPpODEvY",
      "execution_count": 10,
      "outputs": [
        {
          "output_type": "stream",
          "name": "stdout",
          "text": [
            "[100, 200, 300, 400]\n"
          ]
        }
      ]
    },
    {
      "cell_type": "markdown",
      "source": [
        "### Q4. A line of code to add `\"500\"` to the last index, and then print `price`"
      ],
      "metadata": {
        "id": "E5y1iJIIAtTk"
      },
      "id": "E5y1iJIIAtTk"
    },
    {
      "cell_type": "code",
      "source": [
        "price.append(500)\n",
        "print(price)"
      ],
      "metadata": {
        "id": "ppplhv7qCYdP",
        "colab": {
          "base_uri": "https://localhost:8080/"
        },
        "outputId": "de79b289-fa2d-4335-cc7b-5b4ca9dbc511"
      },
      "id": "ppplhv7qCYdP",
      "execution_count": 11,
      "outputs": [
        {
          "output_type": "stream",
          "name": "stdout",
          "text": [
            "[100, 200, 300, 400, 500]\n"
          ]
        }
      ]
    },
    {
      "cell_type": "markdown",
      "source": [
        "---\n",
        "## TUPLE\n",
        "\n",
        "- A list of comma-separated items between parentheses (  )\n",
        "- Immutable: it is not possible to change their content directly"
      ],
      "metadata": {
        "id": "rs7uU9grDqAi"
      },
      "id": "rs7uU9grDqAi"
    },
    {
      "cell_type": "markdown",
      "source": [
        "### Q5. A line of code to return the data type of `interest` variable"
      ],
      "metadata": {
        "id": "ynFoyyCdD2YE"
      },
      "id": "ynFoyyCdD2YE"
    },
    {
      "cell_type": "code",
      "source": [
        "interest = (\"SoFi\", 2.5, \"Chase\", 4.2)"
      ],
      "metadata": {
        "id": "KvnkHZCkE-oW"
      },
      "id": "KvnkHZCkE-oW",
      "execution_count": 29,
      "outputs": []
    },
    {
      "cell_type": "code",
      "source": [
        "type(interest) "
      ],
      "metadata": {
        "id": "aqPna_RXFGaU",
        "colab": {
          "base_uri": "https://localhost:8080/"
        },
        "outputId": "3365a3f9-9d58-4942-ce05-02fc8c522a7b"
      },
      "id": "aqPna_RXFGaU",
      "execution_count": 31,
      "outputs": [
        {
          "output_type": "execute_result",
          "data": {
            "text/plain": [
              "tuple"
            ]
          },
          "metadata": {},
          "execution_count": 31
        }
      ]
    },
    {
      "cell_type": "markdown",
      "source": [
        "---\n",
        "## RANGE\n",
        "\n",
        "- Commonly used for looping a specific number of times in for loops\n",
        "- Immutable sequence of numbers"
      ],
      "metadata": {
        "id": "n5tEbhwrFrM5"
      },
      "id": "n5tEbhwrFrM5"
    },
    {
      "cell_type": "markdown",
      "source": [
        "### Q6. Two lines of code 1) to create a variable `stock` from 0 to 100 with step of 15, and then 2) print it as a list  "
      ],
      "metadata": {
        "id": "0rV_KRkFFufS"
      },
      "id": "0rV_KRkFFufS"
    },
    {
      "cell_type": "code",
      "source": [
        "stock = range(0,100,15)\n",
        "print(list(stock))"
      ],
      "metadata": {
        "id": "9oUbOXMBG5US",
        "colab": {
          "base_uri": "https://localhost:8080/"
        },
        "outputId": "0872826f-5ae8-4987-ef58-2492ec614cab"
      },
      "id": "9oUbOXMBG5US",
      "execution_count": 13,
      "outputs": [
        {
          "output_type": "stream",
          "name": "stdout",
          "text": [
            "[0, 15, 30, 45, 60, 75, 90]\n"
          ]
        }
      ]
    },
    {
      "cell_type": "markdown",
      "source": [
        "### Q7. A line of code to find the position at the first occurence of `30` in `stock` variable"
      ],
      "metadata": {
        "id": "xo_9Xcu4Hmxo"
      },
      "id": "xo_9Xcu4Hmxo"
    },
    {
      "cell_type": "code",
      "source": [
        "stock.index(30)"
      ],
      "metadata": {
        "id": "pq1dvbNtH81k",
        "colab": {
          "base_uri": "https://localhost:8080/"
        },
        "outputId": "d9aebf8c-3751-4b52-a686-20dbe168b07a"
      },
      "id": "pq1dvbNtH81k",
      "execution_count": 14,
      "outputs": [
        {
          "output_type": "execute_result",
          "data": {
            "text/plain": [
              "2"
            ]
          },
          "metadata": {},
          "execution_count": 14
        }
      ]
    },
    {
      "cell_type": "markdown",
      "source": [
        "---\n",
        "## DICT\n",
        "\n",
        "- Dictionary\n",
        "- Mapping object with braces like {'iphone': 100, 'ipad': 200, 'imac': 300} \n",
        "- Structure: {key: value}\n",
        "- Mutable"
      ],
      "metadata": {
        "id": "O-bqOj3bIJZG"
      },
      "id": "O-bqOj3bIJZG"
    },
    {
      "cell_type": "code",
      "source": [
        "# Run this chunk to create `cap` dictionary variable for Q8, Q9, and Q10\n",
        "\n",
        "cap = {'COST': 259, 'WMT': 424, 'TGT': 107} "
      ],
      "metadata": {
        "id": "cB2l5zDOI66P"
      },
      "id": "cB2l5zDOI66P",
      "execution_count": 24,
      "outputs": []
    },
    {
      "cell_type": "markdown",
      "source": [
        "### Q8. A list of code to return the value of `COST` key"
      ],
      "metadata": {
        "id": "AR2DbW3II2p_"
      },
      "id": "AR2DbW3II2p_"
    },
    {
      "cell_type": "code",
      "source": [
        "cap[\"COST\"]"
      ],
      "metadata": {
        "id": "NKYWLxOrI2CR",
        "colab": {
          "base_uri": "https://localhost:8080/"
        },
        "outputId": "d6796635-302e-45d0-dc81-e8db6d4a8270"
      },
      "id": "NKYWLxOrI2CR",
      "execution_count": 25,
      "outputs": [
        {
          "output_type": "execute_result",
          "data": {
            "text/plain": [
              "259"
            ]
          },
          "metadata": {},
          "execution_count": 25
        }
      ]
    },
    {
      "cell_type": "markdown",
      "source": [
        "### Q9. A line of code to add `'HD': 317` to `cap` variable"
      ],
      "metadata": {
        "id": "Zl4l1hE4LIN4"
      },
      "id": "Zl4l1hE4LIN4"
    },
    {
      "cell_type": "code",
      "source": [
        "cap[\"HD\"] = 317\n"
      ],
      "metadata": {
        "id": "F0QFc-m9H_SJ"
      },
      "id": "F0QFc-m9H_SJ",
      "execution_count": 33,
      "outputs": []
    },
    {
      "cell_type": "markdown",
      "source": [
        "### Q10. Create a for loop to return all the keys and values of `cap` variable"
      ],
      "metadata": {
        "id": "zXFv4XhbMELb"
      },
      "id": "zXFv4XhbMELb"
    },
    {
      "cell_type": "code",
      "source": [
        "for i in cap.items():\n",
        "  print(i)"
      ],
      "metadata": {
        "id": "KMsUBY70L9fP",
        "colab": {
          "base_uri": "https://localhost:8080/"
        },
        "outputId": "a16be483-726f-4d67-8d4f-ed2f4f0b9a6e"
      },
      "id": "KMsUBY70L9fP",
      "execution_count": 28,
      "outputs": [
        {
          "output_type": "stream",
          "name": "stdout",
          "text": [
            "('COST', 259)\n",
            "('WMT', 424)\n",
            "('TGT', 107)\n",
            "('HD', 317)\n"
          ]
        }
      ]
    }
  ],
  "metadata": {
    "kernelspec": {
      "display_name": "Python 3 (ipykernel)",
      "language": "python",
      "name": "python3"
    },
    "language_info": {
      "codemirror_mode": {
        "name": "ipython",
        "version": 3
      },
      "file_extension": ".py",
      "mimetype": "text/x-python",
      "name": "python",
      "nbconvert_exporter": "python",
      "pygments_lexer": "ipython3",
      "version": "3.9.7"
    },
    "colab": {
      "name": "C25_inclass.ipynb",
      "provenance": [],
      "collapsed_sections": []
    }
  },
  "nbformat": 4,
  "nbformat_minor": 5
}