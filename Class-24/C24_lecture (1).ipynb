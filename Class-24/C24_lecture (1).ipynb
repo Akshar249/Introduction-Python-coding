{
  "cells": [
    {
      "cell_type": "markdown",
      "id": "897e43fe",
      "metadata": {
        "id": "897e43fe"
      },
      "source": [
        "# C24 - Basic Syntax"
      ]
    },
    {
      "cell_type": "markdown",
      "id": "b14a5454",
      "metadata": {
        "id": "b14a5454"
      },
      "source": [
        "## author & date\n",
        "\n",
        "- author: Akshar Patel\n",
        "- date: 4/11/2022"
      ]
    },
    {
      "cell_type": "markdown",
      "id": "14846f4d",
      "metadata": {
        "id": "14846f4d"
      },
      "source": [
        "# Variable assignment"
      ]
    },
    {
      "cell_type": "code",
      "execution_count": 43,
      "id": "28544986",
      "metadata": {
        "colab": {
          "base_uri": "https://localhost:8080/",
          "height": 235
        },
        "id": "28544986",
        "outputId": "dfe52e14-6c42-4e54-f489-2c1ab7564307"
      },
      "outputs": [
        {
          "output_type": "error",
          "ename": "NameError",
          "evalue": "ignored",
          "traceback": [
            "\u001b[0;31m---------------------------------------------------------------------------\u001b[0m",
            "\u001b[0;31mNameError\u001b[0m                                 Traceback (most recent call last)",
            "\u001b[0;32m<ipython-input-43-2f4fba34dbf0>\u001b[0m in \u001b[0;36m<module>\u001b[0;34m()\u001b[0m\n\u001b[1;32m      1\u001b[0m \u001b[0;31m#R\u001b[0m\u001b[0;34m\u001b[0m\u001b[0;34m\u001b[0m\u001b[0;34m\u001b[0m\u001b[0m\n\u001b[0;32m----> 2\u001b[0;31m \u001b[0mtomato\u001b[0m \u001b[0;34m<\u001b[0m\u001b[0;34m-\u001b[0m \u001b[0;36m1\u001b[0m\u001b[0;34m\u001b[0m\u001b[0;34m\u001b[0m\u001b[0m\n\u001b[0m\u001b[1;32m      3\u001b[0m \u001b[0;34m\u001b[0m\u001b[0m\n\u001b[1;32m      4\u001b[0m \u001b[0;31m#Python\u001b[0m\u001b[0;34m\u001b[0m\u001b[0;34m\u001b[0m\u001b[0;34m\u001b[0m\u001b[0m\n\u001b[1;32m      5\u001b[0m \u001b[0mtomato\u001b[0m \u001b[0;34m=\u001b[0m \u001b[0;36m1\u001b[0m\u001b[0;34m\u001b[0m\u001b[0;34m\u001b[0m\u001b[0m\n",
            "\u001b[0;31mNameError\u001b[0m: name 'tomato' is not defined"
          ]
        }
      ],
      "source": [
        "#R \n",
        "tomato <- 1\n",
        "\n",
        "#Python\n",
        "tomato = 1"
      ]
    },
    {
      "cell_type": "code",
      "execution_count": null,
      "id": "f9ed51e9",
      "metadata": {
        "id": "f9ed51e9"
      },
      "outputs": [],
      "source": [
        "#R \n",
        "watermelon <- \"popular in summer\"\n",
        "\n",
        "#Python\n",
        "watermelon = \"popular in summer\""
      ]
    },
    {
      "cell_type": "code",
      "execution_count": 44,
      "id": "9e9df252",
      "metadata": {
        "colab": {
          "base_uri": "https://localhost:8080/",
          "height": 0
        },
        "id": "9e9df252",
        "outputId": "ae6f7d2a-93e7-44f1-f2db-64760dd07150"
      },
      "outputs": [
        {
          "output_type": "stream",
          "name": "stdout",
          "text": [
            "apple water house\n"
          ]
        }
      ],
      "source": [
        "x, y, z = \"apple\", \"water\", \"house\"\n",
        "\n",
        "print(x, y, z)"
      ]
    },
    {
      "cell_type": "markdown",
      "id": "b11d0bd0",
      "metadata": {
        "id": "b11d0bd0"
      },
      "source": [
        "# Indentation"
      ]
    },
    {
      "cell_type": "code",
      "execution_count": 41,
      "id": "4d803d23",
      "metadata": {
        "colab": {
          "base_uri": "https://localhost:8080/",
          "height": 0
        },
        "id": "4d803d23",
        "outputId": "f19ea443-1904-426c-d49d-cf6f1b3ff7cb"
      },
      "outputs": [
        {
          "output_type": "stream",
          "name": "stdout",
          "text": [
            "Five is greater than two!\n"
          ]
        }
      ],
      "source": [
        "# correct\n",
        "\n",
        "if 5 > 2:\n",
        "  print(\"Five is greater than two!\")"
      ]
    },
    {
      "cell_type": "code",
      "execution_count": null,
      "id": "c434e261",
      "metadata": {
        "id": "c434e261"
      },
      "outputs": [],
      "source": [
        "#incorrect\n",
        "\n",
        "if 5 > 2:\n",
        "print(\"Five is greater than two!\")"
      ]
    },
    {
      "cell_type": "markdown",
      "id": "6c1b83ee",
      "metadata": {
        "id": "6c1b83ee"
      },
      "source": [
        "# Data types \n",
        "\n",
        "- Text type: str\n",
        "\n",
        "- Numeric type: int, float\n",
        "\n",
        "- Sequence type: list, tuple, range, dict\n",
        "\n",
        "- Boolean type: bool (True, False)\n",
        "\n",
        "- command to check data type: type()"
      ]
    },
    {
      "cell_type": "code",
      "execution_count": 36,
      "id": "97c9d4a5",
      "metadata": {
        "colab": {
          "base_uri": "https://localhost:8080/",
          "height": 0
        },
        "id": "97c9d4a5",
        "outputId": "ce03bfd2-072f-47d0-f5e0-2f30d7ba356d"
      },
      "outputs": [
        {
          "output_type": "execute_result",
          "data": {
            "text/plain": [
              "str"
            ]
          },
          "metadata": {},
          "execution_count": 36
        }
      ],
      "source": [
        "#String\n",
        "\n",
        "watermelon = \"popular in summer\"\n",
        "type(watermelon)"
      ]
    },
    {
      "cell_type": "code",
      "execution_count": 37,
      "id": "a76b4d3f",
      "metadata": {
        "colab": {
          "base_uri": "https://localhost:8080/",
          "height": 0
        },
        "id": "a76b4d3f",
        "outputId": "651f1017-936b-40a6-c698-2bf627cdf77d"
      },
      "outputs": [
        {
          "output_type": "stream",
          "name": "stdout",
          "text": [
            "p\n",
            "s\n",
            "r\n"
          ]
        }
      ],
      "source": [
        "#Strings can be indexed\n",
        "\n",
        "print(watermelon[0])\n",
        "print(watermelon[11])\n",
        "print(watermelon[-1]) #to start counting from the right"
      ]
    },
    {
      "cell_type": "code",
      "execution_count": 38,
      "id": "cf6f965d",
      "metadata": {
        "colab": {
          "base_uri": "https://localhost:8080/",
          "height": 0
        },
        "id": "cf6f965d",
        "outputId": "037b8aaa-d414-42a4-e80b-092aaf3e9b0e"
      },
      "outputs": [
        {
          "output_type": "stream",
          "name": "stdout",
          "text": [
            "popular \n",
            "popu\n",
            "lar in summer\n"
          ]
        }
      ],
      "source": [
        "#Strings can be sliced\n",
        "\n",
        "print(watermelon[0:8]) #from position 0 (included) to 8 (excluded)\n",
        "print(watermelon[:4]) #from the beginning to position 4 (excluded)\n",
        "print(watermelon[4:]) #from position 4 (included) to the end"
      ]
    },
    {
      "cell_type": "code",
      "execution_count": 39,
      "id": "51615b7b",
      "metadata": {
        "colab": {
          "base_uri": "https://localhost:8080/",
          "height": 0
        },
        "id": "51615b7b",
        "outputId": "99904f60-ce03-46a3-fc5e-2a5b2f6020cc"
      },
      "outputs": [
        {
          "output_type": "execute_result",
          "data": {
            "text/plain": [
              "int"
            ]
          },
          "metadata": {},
          "execution_count": 39
        }
      ],
      "source": [
        "#int \n",
        "\n",
        "type(123)"
      ]
    },
    {
      "cell_type": "code",
      "execution_count": 40,
      "id": "facd480a",
      "metadata": {
        "colab": {
          "base_uri": "https://localhost:8080/",
          "height": 0
        },
        "id": "facd480a",
        "outputId": "73cf7b0c-e17a-424b-9b3d-e5fc3f9a2c2d"
      },
      "outputs": [
        {
          "output_type": "execute_result",
          "data": {
            "text/plain": [
              "float"
            ]
          },
          "metadata": {},
          "execution_count": 40
        }
      ],
      "source": [
        "#float\n",
        "\n",
        "type(4.567)"
      ]
    },
    {
      "cell_type": "markdown",
      "id": "cdb16710",
      "metadata": {
        "id": "cdb16710"
      },
      "source": [
        "# List\n",
        "\n",
        "- A list of comma-separated items between square brackets [ ]\n",
        "- Lists might contain items of different types\n",
        "- Mutable: it is possible to change their content"
      ]
    },
    {
      "cell_type": "code",
      "execution_count": 7,
      "id": "20f9b5e3",
      "metadata": {
        "id": "20f9b5e3"
      },
      "outputs": [],
      "source": [
        "#Sequence type: list\n",
        "\n",
        "tomatos = [1, 4, 52, 12]"
      ]
    },
    {
      "cell_type": "code",
      "execution_count": 30,
      "id": "24bb8bfd",
      "metadata": {
        "colab": {
          "base_uri": "https://localhost:8080/",
          "height": 0
        },
        "id": "24bb8bfd",
        "outputId": "585d9e2d-2d7c-4a0a-f509-d1b57ff7c3de"
      },
      "outputs": [
        {
          "output_type": "stream",
          "name": "stdout",
          "text": [
            "[1, 4, 52, 12]\n"
          ]
        }
      ],
      "source": [
        "print(tomatos)"
      ]
    },
    {
      "cell_type": "code",
      "execution_count": 31,
      "id": "f84fef14",
      "metadata": {
        "colab": {
          "base_uri": "https://localhost:8080/",
          "height": 0
        },
        "id": "f84fef14",
        "outputId": "3f0215d2-482b-4881-e6c2-374aaea50184"
      },
      "outputs": [
        {
          "output_type": "execute_result",
          "data": {
            "text/plain": [
              "list"
            ]
          },
          "metadata": {},
          "execution_count": 31
        }
      ],
      "source": [
        "type(tomatos)"
      ]
    },
    {
      "cell_type": "code",
      "execution_count": 32,
      "id": "c394b31f",
      "metadata": {
        "colab": {
          "base_uri": "https://localhost:8080/",
          "height": 0
        },
        "id": "c394b31f",
        "outputId": "1a1e51d0-caa1-44a3-d88b-61c5e314b230"
      },
      "outputs": [
        {
          "output_type": "stream",
          "name": "stdout",
          "text": [
            "1\n",
            "[1, 4, 52]\n",
            "[1, 4, 52, 12]\n"
          ]
        }
      ],
      "source": [
        "# A list can be indexed and sliced\n",
        "\n",
        "print(tomatos[0]) \n",
        "print(tomatos[0:3])\n",
        "print(tomatos[:])"
      ]
    },
    {
      "cell_type": "code",
      "execution_count": 33,
      "id": "b86b9071",
      "metadata": {
        "colab": {
          "base_uri": "https://localhost:8080/",
          "height": 0
        },
        "id": "b86b9071",
        "outputId": "84eeb22f-9fbc-4862-cbc6-06a4f57fc6be"
      },
      "outputs": [
        {
          "output_type": "stream",
          "name": "stdout",
          "text": [
            "[1, 4, 52, 'red']\n"
          ]
        }
      ],
      "source": [
        "#if you want  to replace the wrong value\n",
        "\n",
        "tomatos[3] = \"red\"\n",
        "print(tomatos)"
      ]
    },
    {
      "cell_type": "code",
      "execution_count": 34,
      "id": "9cf6c1f9",
      "metadata": {
        "colab": {
          "base_uri": "https://localhost:8080/",
          "height": 0
        },
        "id": "9cf6c1f9",
        "outputId": "a55eee5b-fcb7-497c-d8f7-31b7712ac806"
      },
      "outputs": [
        {
          "output_type": "stream",
          "name": "stdout",
          "text": [
            "[1, 4, 52, 'red', 'green']\n"
          ]
        }
      ],
      "source": [
        "# using append\n",
        "\n",
        "tomatos.append(\"green\")\n",
        "print(tomatos)"
      ]
    },
    {
      "cell_type": "code",
      "execution_count": 35,
      "id": "140c5cb2",
      "metadata": {
        "colab": {
          "base_uri": "https://localhost:8080/",
          "height": 0
        },
        "id": "140c5cb2",
        "outputId": "8609c01a-1d66-45ab-bf0d-6b6e87a0bfe6"
      },
      "outputs": [
        {
          "output_type": "stream",
          "name": "stdout",
          "text": [
            "[1, 4, 52]\n"
          ]
        }
      ],
      "source": [
        "# remove items using blank square brackets []\n",
        "\n",
        "tomatos[3:5] = []\n",
        "print(tomatos)"
      ]
    },
    {
      "cell_type": "markdown",
      "id": "d3460a9a",
      "metadata": {
        "id": "d3460a9a"
      },
      "source": [
        "# Tuple\n",
        "\n",
        "- A list of comma-separated items between parentheses (  )\n",
        "\n",
        "- Immutable: it is not possible to change their content directly"
      ]
    },
    {
      "cell_type": "code",
      "execution_count": 9,
      "id": "5f56c308",
      "metadata": {
        "id": "5f56c308"
      },
      "outputs": [],
      "source": [
        "price = (2, 4, 5)"
      ]
    },
    {
      "cell_type": "code",
      "execution_count": 10,
      "id": "3c959638",
      "metadata": {
        "colab": {
          "base_uri": "https://localhost:8080/",
          "height": 0
        },
        "id": "3c959638",
        "outputId": "82fa28c3-d42b-4f80-8dc5-ed364d96fd43"
      },
      "outputs": [
        {
          "output_type": "execute_result",
          "data": {
            "text/plain": [
              "tuple"
            ]
          },
          "metadata": {},
          "execution_count": 10
        }
      ],
      "source": [
        "type(price)"
      ]
    },
    {
      "cell_type": "markdown",
      "id": "91aca47b",
      "metadata": {
        "id": "91aca47b"
      },
      "source": [
        "# Range\n",
        "\n",
        "- Structure: (`start`, `stop`, `step`)\n",
        "- Commonly used for looping a specific number of times in for loops\n",
        "- Immutable sequence of numbers\n",
        "\n",
        "## `start`\n",
        "> The value of the start parameter (or 0 if the parameter was not supplied) (included)\n",
        "\n",
        "## `stop`\n",
        "> The value of the stop parameter (excluded)\n",
        "\n",
        "## `step`\n",
        "> The value of the step parameter (or 1 if the parameter was not supplied)"
      ]
    },
    {
      "cell_type": "code",
      "execution_count": 1,
      "id": "d81fea0f",
      "metadata": {
        "colab": {
          "base_uri": "https://localhost:8080/",
          "height": 0
        },
        "id": "d81fea0f",
        "outputId": "531111bf-48eb-4546-fd2a-87e364725510"
      },
      "outputs": [
        {
          "output_type": "execute_result",
          "data": {
            "text/plain": [
              "range(0, 10)"
            ]
          },
          "metadata": {},
          "execution_count": 1
        }
      ],
      "source": [
        "range(10)"
      ]
    },
    {
      "cell_type": "code",
      "execution_count": 2,
      "id": "3049faca",
      "metadata": {
        "colab": {
          "base_uri": "https://localhost:8080/",
          "height": 0
        },
        "id": "3049faca",
        "outputId": "aeac6dbe-f4f4-481f-f6a1-6db6139387a2"
      },
      "outputs": [
        {
          "output_type": "execute_result",
          "data": {
            "text/plain": [
              "[0, 1, 2, 3, 4, 5, 6, 7, 8, 9]"
            ]
          },
          "metadata": {},
          "execution_count": 2
        }
      ],
      "source": [
        "list(range(10))"
      ]
    },
    {
      "cell_type": "code",
      "execution_count": 3,
      "id": "af0b62f7",
      "metadata": {
        "colab": {
          "base_uri": "https://localhost:8080/",
          "height": 0
        },
        "id": "af0b62f7",
        "outputId": "20958b47-fe7f-44af-ab8a-e5ab29fbb3e4"
      },
      "outputs": [
        {
          "output_type": "execute_result",
          "data": {
            "text/plain": [
              "[0, 5, 10, 15, 20, 25]"
            ]
          },
          "metadata": {},
          "execution_count": 3
        }
      ],
      "source": [
        "list(range(0, 30, 5))"
      ]
    },
    {
      "cell_type": "code",
      "execution_count": 4,
      "id": "6a21ed47",
      "metadata": {
        "id": "6a21ed47"
      },
      "outputs": [],
      "source": [
        "r = range(0, 20, 2)"
      ]
    },
    {
      "cell_type": "code",
      "execution_count": 5,
      "id": "1a737440",
      "metadata": {
        "colab": {
          "base_uri": "https://localhost:8080/",
          "height": 0
        },
        "id": "1a737440",
        "outputId": "849e8210-8367-43e1-9209-9c985a02b68a"
      },
      "outputs": [
        {
          "output_type": "execute_result",
          "data": {
            "text/plain": [
              "[0, 2, 4, 6, 8, 10, 12, 14, 16, 18]"
            ]
          },
          "metadata": {},
          "execution_count": 5
        }
      ],
      "source": [
        "list(r)"
      ]
    },
    {
      "cell_type": "code",
      "execution_count": 6,
      "id": "7be1b180",
      "metadata": {
        "colab": {
          "base_uri": "https://localhost:8080/",
          "height": 0
        },
        "id": "7be1b180",
        "outputId": "b498531f-033f-41f4-e2da-22c5ac46c8d0"
      },
      "outputs": [
        {
          "output_type": "execute_result",
          "data": {
            "text/plain": [
              "5"
            ]
          },
          "metadata": {},
          "execution_count": 6
        }
      ],
      "source": [
        "r.index(10) #the position at the first occurrence of the specified value (10)"
      ]
    },
    {
      "cell_type": "markdown",
      "id": "20b8c03d",
      "metadata": {
        "id": "20b8c03d"
      },
      "source": [
        "# Dict\n",
        "\n",
        "- Dictionary\n",
        "- Mapping object with braces like {'iphone': 100, 'ipad': 200, 'imac': 300} \n",
        "- Structure: {key: value}\n",
        "- Mutable"
      ]
    },
    {
      "cell_type": "code",
      "execution_count": 11,
      "id": "b374b2f0",
      "metadata": {
        "id": "b374b2f0"
      },
      "outputs": [],
      "source": [
        "#first method\n",
        "\n",
        "apple = {'iphone': 100, 'ipad': 200, 'imac': 300} "
      ]
    },
    {
      "cell_type": "code",
      "execution_count": 12,
      "id": "88a11a61",
      "metadata": {
        "colab": {
          "base_uri": "https://localhost:8080/",
          "height": 0
        },
        "id": "88a11a61",
        "outputId": "bac5b55b-eb78-4df6-f5e0-a4264d07fe75"
      },
      "outputs": [
        {
          "output_type": "stream",
          "name": "stdout",
          "text": [
            "{'iphone': 100, 'ipad': 200, 'imac': 300}\n"
          ]
        },
        {
          "output_type": "execute_result",
          "data": {
            "text/plain": [
              "dict"
            ]
          },
          "metadata": {},
          "execution_count": 12
        }
      ],
      "source": [
        "print(apple)\n",
        "type(apple)"
      ]
    },
    {
      "cell_type": "code",
      "execution_count": 13,
      "id": "e158821c",
      "metadata": {
        "id": "e158821c"
      },
      "outputs": [],
      "source": [
        "#second method\n",
        "\n",
        "apple2 = dict(iphone=100, ipad=200, imac=300) "
      ]
    },
    {
      "cell_type": "code",
      "execution_count": 14,
      "id": "6445e51f",
      "metadata": {
        "colab": {
          "base_uri": "https://localhost:8080/",
          "height": 0
        },
        "id": "6445e51f",
        "outputId": "37acb1ce-3dd0-4d7e-a727-19093f406f2c"
      },
      "outputs": [
        {
          "output_type": "stream",
          "name": "stdout",
          "text": [
            "{'iphone': 100, 'ipad': 200, 'imac': 300}\n"
          ]
        },
        {
          "output_type": "execute_result",
          "data": {
            "text/plain": [
              "dict"
            ]
          },
          "metadata": {},
          "execution_count": 14
        }
      ],
      "source": [
        "print(apple2)\n",
        "type(apple2)"
      ]
    },
    {
      "cell_type": "code",
      "execution_count": 15,
      "id": "41686425",
      "metadata": {
        "colab": {
          "base_uri": "https://localhost:8080/",
          "height": 0
        },
        "id": "41686425",
        "outputId": "eda469c8-dedd-48e5-b929-07e0681034b8"
      },
      "outputs": [
        {
          "output_type": "execute_result",
          "data": {
            "text/plain": [
              "dict_values([100, 200, 300])"
            ]
          },
          "metadata": {},
          "execution_count": 15
        }
      ],
      "source": [
        "#return values only\n",
        "\n",
        "apple.values()"
      ]
    },
    {
      "cell_type": "code",
      "execution_count": 16,
      "id": "3d876b1d",
      "metadata": {
        "colab": {
          "base_uri": "https://localhost:8080/",
          "height": 0
        },
        "id": "3d876b1d",
        "outputId": "5eb56a6b-4cde-42e2-9ef3-ef174f3ce063"
      },
      "outputs": [
        {
          "output_type": "execute_result",
          "data": {
            "text/plain": [
              "dict_keys(['iphone', 'ipad', 'imac'])"
            ]
          },
          "metadata": {},
          "execution_count": 16
        }
      ],
      "source": [
        "#return keys only\n",
        "\n",
        "apple.keys()"
      ]
    },
    {
      "cell_type": "code",
      "execution_count": 17,
      "id": "42eee5ab",
      "metadata": {
        "colab": {
          "base_uri": "https://localhost:8080/",
          "height": 0
        },
        "id": "42eee5ab",
        "outputId": "fccbc9a9-fd26-4f9c-afc0-8034f75980d5"
      },
      "outputs": [
        {
          "output_type": "execute_result",
          "data": {
            "text/plain": [
              "100"
            ]
          },
          "metadata": {},
          "execution_count": 17
        }
      ],
      "source": [
        "# return a value using a key\n",
        "\n",
        "apple[\"iphone\"]"
      ]
    },
    {
      "cell_type": "code",
      "execution_count": 18,
      "id": "abb47115",
      "metadata": {
        "colab": {
          "base_uri": "https://localhost:8080/",
          "height": 0
        },
        "id": "abb47115",
        "outputId": "c99df0a4-2292-495b-8f58-4d78772be8a8"
      },
      "outputs": [
        {
          "output_type": "execute_result",
          "data": {
            "text/plain": [
              "3"
            ]
          },
          "metadata": {},
          "execution_count": 18
        }
      ],
      "source": [
        "# length of items\n",
        "\n",
        "len(apple)"
      ]
    },
    {
      "cell_type": "code",
      "execution_count": 19,
      "id": "d6862bf2",
      "metadata": {
        "id": "d6862bf2"
      },
      "outputs": [],
      "source": [
        "# update (1)\n",
        "\n",
        "apple.update({\"imac studio\": 400})"
      ]
    },
    {
      "cell_type": "code",
      "execution_count": 20,
      "id": "83031872",
      "metadata": {
        "colab": {
          "base_uri": "https://localhost:8080/",
          "height": 0
        },
        "id": "83031872",
        "outputId": "50176f0f-3476-44ab-f820-320ae229d5bc"
      },
      "outputs": [
        {
          "output_type": "stream",
          "name": "stdout",
          "text": [
            "{'iphone': 100, 'ipad': 200, 'imac': 300, 'imac studio': 400}\n"
          ]
        }
      ],
      "source": [
        "print(apple)"
      ]
    },
    {
      "cell_type": "code",
      "execution_count": 21,
      "id": "8da0956d",
      "metadata": {
        "colab": {
          "base_uri": "https://localhost:8080/",
          "height": 0
        },
        "id": "8da0956d",
        "outputId": "fe035e82-4d9a-452e-ef6f-dedc17256c3c"
      },
      "outputs": [
        {
          "output_type": "stream",
          "name": "stdout",
          "text": [
            "{'iphone': 100, 'ipad': 200, 'imac': 300, 'imac studio': 400, 'magic mouse': 50}\n"
          ]
        }
      ],
      "source": [
        "# update (2)\n",
        "\n",
        "apple[\"magic mouse\"] = 50\n",
        "print(apple)"
      ]
    },
    {
      "cell_type": "code",
      "execution_count": 22,
      "id": "f187c69e",
      "metadata": {
        "colab": {
          "base_uri": "https://localhost:8080/",
          "height": 0
        },
        "id": "f187c69e",
        "outputId": "19510642-ca0f-414f-f528-dba6bff45279"
      },
      "outputs": [
        {
          "output_type": "stream",
          "name": "stdout",
          "text": [
            "{'iphone': 100, 'ipad': 200, 'imac': 300, 'imac studio': 400}\n"
          ]
        }
      ],
      "source": [
        "# remove (1)\n",
        "\n",
        "apple.pop(\"magic mouse\")\n",
        "print(apple)"
      ]
    },
    {
      "cell_type": "code",
      "execution_count": 23,
      "id": "cc1ab7e9",
      "metadata": {
        "colab": {
          "base_uri": "https://localhost:8080/",
          "height": 0
        },
        "id": "cc1ab7e9",
        "outputId": "05e233d7-73c2-4e98-940a-b4fd97c630d8"
      },
      "outputs": [
        {
          "output_type": "stream",
          "name": "stdout",
          "text": [
            "{'ipad': 200, 'imac': 300, 'imac studio': 400}\n"
          ]
        }
      ],
      "source": [
        "del apple[\"iphone\"]\n",
        "print(apple)"
      ]
    },
    {
      "cell_type": "markdown",
      "id": "80b541ec",
      "metadata": {
        "id": "80b541ec"
      },
      "source": [
        "## loop of dict"
      ]
    },
    {
      "cell_type": "code",
      "execution_count": 51,
      "id": "e550723d",
      "metadata": {
        "colab": {
          "base_uri": "https://localhost:8080/",
          "height": 0
        },
        "id": "e550723d",
        "outputId": "f4352aba-579a-4b40-a7d3-7230d9608ca0"
      },
      "outputs": [
        {
          "output_type": "stream",
          "name": "stdout",
          "text": [
            "ipad\n",
            "imac\n",
            "imac studio\n"
          ]
        }
      ],
      "source": [
        "#only keys (1)\n",
        "\n",
        "for i in apple:\n",
        "  print(i)"
      ]
    },
    {
      "cell_type": "code",
      "execution_count": 52,
      "id": "0beb718c",
      "metadata": {
        "colab": {
          "base_uri": "https://localhost:8080/",
          "height": 0
        },
        "id": "0beb718c",
        "outputId": "2b26071c-aa42-48e0-f81d-8cfe8a3f6132"
      },
      "outputs": [
        {
          "output_type": "stream",
          "name": "stdout",
          "text": [
            "ipad\n",
            "imac\n",
            "imac studio\n"
          ]
        }
      ],
      "source": [
        "#only keys (2)\n",
        "\n",
        "for i in apple.keys():\n",
        "  print(i)"
      ]
    },
    {
      "cell_type": "code",
      "execution_count": 53,
      "id": "fa1a7047",
      "metadata": {
        "colab": {
          "base_uri": "https://localhost:8080/",
          "height": 0
        },
        "id": "fa1a7047",
        "outputId": "65e4710c-cf11-48bc-8164-2c606ea03d80"
      },
      "outputs": [
        {
          "output_type": "stream",
          "name": "stdout",
          "text": [
            "200\n",
            "300\n",
            "400\n"
          ]
        }
      ],
      "source": [
        "#only values(1)\n",
        "\n",
        "for i in apple:\n",
        "  print(apple[i])"
      ]
    },
    {
      "cell_type": "code",
      "execution_count": 54,
      "id": "0c35c993",
      "metadata": {
        "colab": {
          "base_uri": "https://localhost:8080/",
          "height": 0
        },
        "id": "0c35c993",
        "outputId": "fc9734ac-66a7-4ac7-be15-7e26d7ee8042"
      },
      "outputs": [
        {
          "output_type": "stream",
          "name": "stdout",
          "text": [
            "200\n",
            "300\n",
            "400\n"
          ]
        }
      ],
      "source": [
        "#only values(2)\n",
        "\n",
        "for i in apple.values():\n",
        "  print(i)"
      ]
    },
    {
      "cell_type": "code",
      "execution_count": 55,
      "id": "53776c71",
      "metadata": {
        "colab": {
          "base_uri": "https://localhost:8080/",
          "height": 0
        },
        "id": "53776c71",
        "outputId": "b21724ff-9302-4bf8-af63-603b581afa33"
      },
      "outputs": [
        {
          "output_type": "stream",
          "name": "stdout",
          "text": [
            "('ipad', 200)\n",
            "('imac', 300)\n",
            "('imac studio', 400)\n"
          ]
        }
      ],
      "source": [
        "#keys and values\n",
        "\n",
        "for i in apple.items():\n",
        "  print(i)"
      ]
    },
    {
      "cell_type": "code",
      "execution_count": 56,
      "id": "5461d84e",
      "metadata": {
        "colab": {
          "base_uri": "https://localhost:8080/",
          "height": 36
        },
        "id": "5461d84e",
        "outputId": "3d45955e-e782-4628-985a-1601ac631334"
      },
      "outputs": [
        {
          "output_type": "execute_result",
          "data": {
            "text/plain": [
              "'/content'"
            ],
            "application/vnd.google.colaboratory.intrinsic+json": {
              "type": "string"
            }
          },
          "metadata": {},
          "execution_count": 56
        }
      ],
      "source": [
        "import os\n",
        "os.getcwd()"
      ]
    }
  ],
  "metadata": {
    "kernelspec": {
      "display_name": "Python 3 (ipykernel)",
      "language": "python",
      "name": "python3"
    },
    "language_info": {
      "codemirror_mode": {
        "name": "ipython",
        "version": 3
      },
      "file_extension": ".py",
      "mimetype": "text/x-python",
      "name": "python",
      "nbconvert_exporter": "python",
      "pygments_lexer": "ipython3",
      "version": "3.9.7"
    },
    "colab": {
      "name": "C24_lecture.ipynb",
      "provenance": [],
      "collapsed_sections": [
        "cdb16710",
        "d3460a9a",
        "20b8c03d",
        "80b541ec"
      ]
    }
  },
  "nbformat": 4,
  "nbformat_minor": 5
}