{
  "cells": [
    {
      "cell_type": "markdown",
      "id": "897e43fe",
      "metadata": {
        "id": "897e43fe"
      },
      "source": [
        "# C26 - Numpy"
      ]
    },
    {
      "cell_type": "markdown",
      "id": "b14a5454",
      "metadata": {
        "id": "b14a5454"
      },
      "source": [
        "## author & date\n",
        "\n",
        "- author: Akshar Patel\n",
        "- date: 4/18/2022"
      ]
    },
    {
      "cell_type": "markdown",
      "id": "14846f4d",
      "metadata": {
        "id": "14846f4d"
      },
      "source": [
        "# Creating an array"
      ]
    },
    {
      "cell_type": "code",
      "execution_count": 2,
      "id": "28544986",
      "metadata": {
        "id": "28544986"
      },
      "outputs": [],
      "source": [
        "import numpy as np"
      ]
    },
    {
      "cell_type": "code",
      "execution_count": 3,
      "id": "f9ed51e9",
      "metadata": {
        "id": "f9ed51e9"
      },
      "outputs": [],
      "source": [
        "a1 = np.array([1, 2, 3]) #1D array"
      ]
    },
    {
      "cell_type": "code",
      "source": [
        "a1"
      ],
      "metadata": {
        "colab": {
          "base_uri": "https://localhost:8080/",
          "height": 0
        },
        "id": "yB60CB0HB8xv",
        "outputId": "f64a96e9-0b9e-41be-e1fc-d354b70ce957"
      },
      "id": "yB60CB0HB8xv",
      "execution_count": 4,
      "outputs": [
        {
          "output_type": "execute_result",
          "data": {
            "text/plain": [
              "array([1, 2, 3])"
            ]
          },
          "metadata": {},
          "execution_count": 4
        }
      ]
    },
    {
      "cell_type": "code",
      "execution_count": 5,
      "id": "9e9df252",
      "metadata": {
        "id": "9e9df252"
      },
      "outputs": [],
      "source": [
        "b2 = np.array([[1, 2, 3], [4, 5, 6]]) #2D array"
      ]
    },
    {
      "cell_type": "code",
      "source": [
        "b2"
      ],
      "metadata": {
        "colab": {
          "base_uri": "https://localhost:8080/",
          "height": 0
        },
        "id": "zeAgKhDMBohe",
        "outputId": "c7231add-aae4-4fd8-d66c-23227f26ef8b"
      },
      "id": "zeAgKhDMBohe",
      "execution_count": 6,
      "outputs": [
        {
          "output_type": "execute_result",
          "data": {
            "text/plain": [
              "array([[1, 2, 3],\n",
              "       [4, 5, 6]])"
            ]
          },
          "metadata": {},
          "execution_count": 6
        }
      ]
    },
    {
      "cell_type": "markdown",
      "source": [
        "# Dimension and size check"
      ],
      "metadata": {
        "id": "EjodcaSgCMte"
      },
      "id": "EjodcaSgCMte"
    },
    {
      "cell_type": "code",
      "source": [
        "a1.ndim #number of dimension"
      ],
      "metadata": {
        "colab": {
          "base_uri": "https://localhost:8080/",
          "height": 0
        },
        "id": "YxEyKsuyB-dx",
        "outputId": "dcbf7040-ef1c-45ec-ab3a-6d22735ae439"
      },
      "id": "YxEyKsuyB-dx",
      "execution_count": 7,
      "outputs": [
        {
          "output_type": "execute_result",
          "data": {
            "text/plain": [
              "1"
            ]
          },
          "metadata": {},
          "execution_count": 7
        }
      ]
    },
    {
      "cell_type": "code",
      "source": [
        "b2.ndim"
      ],
      "metadata": {
        "colab": {
          "base_uri": "https://localhost:8080/",
          "height": 0
        },
        "id": "9T5kumycB_wR",
        "outputId": "0b4d1de2-bb09-4274-f20f-aa4cfa0ea8af"
      },
      "id": "9T5kumycB_wR",
      "execution_count": 8,
      "outputs": [
        {
          "output_type": "execute_result",
          "data": {
            "text/plain": [
              "2"
            ]
          },
          "metadata": {},
          "execution_count": 8
        }
      ]
    },
    {
      "cell_type": "code",
      "source": [
        "a1.size #number of elements"
      ],
      "metadata": {
        "colab": {
          "base_uri": "https://localhost:8080/",
          "height": 0
        },
        "id": "pBNjX9h1EUsP",
        "outputId": "a81c4dd1-5d7a-4387-9223-534e2baa314e"
      },
      "id": "pBNjX9h1EUsP",
      "execution_count": 9,
      "outputs": [
        {
          "output_type": "execute_result",
          "data": {
            "text/plain": [
              "3"
            ]
          },
          "metadata": {},
          "execution_count": 9
        }
      ]
    },
    {
      "cell_type": "code",
      "source": [
        "b2.size"
      ],
      "metadata": {
        "colab": {
          "base_uri": "https://localhost:8080/",
          "height": 0
        },
        "id": "O1H5osBlEZfL",
        "outputId": "9e5fec0f-f96e-4178-9b3e-f269c2110e83"
      },
      "id": "O1H5osBlEZfL",
      "execution_count": 10,
      "outputs": [
        {
          "output_type": "execute_result",
          "data": {
            "text/plain": [
              "6"
            ]
          },
          "metadata": {},
          "execution_count": 10
        }
      ]
    },
    {
      "cell_type": "code",
      "source": [
        "a1.shape #1D array with three elements"
      ],
      "metadata": {
        "colab": {
          "base_uri": "https://localhost:8080/",
          "height": 0
        },
        "id": "_fGqqNaaEi2j",
        "outputId": "1ca71480-9afb-46bb-df9a-16b97a4bc0cc"
      },
      "id": "_fGqqNaaEi2j",
      "execution_count": 11,
      "outputs": [
        {
          "output_type": "execute_result",
          "data": {
            "text/plain": [
              "(3,)"
            ]
          },
          "metadata": {},
          "execution_count": 11
        }
      ]
    },
    {
      "cell_type": "code",
      "source": [
        "b2.shape #2D array with two rows and three columns "
      ],
      "metadata": {
        "colab": {
          "base_uri": "https://localhost:8080/",
          "height": 0
        },
        "id": "gGJxxKv1Eybx",
        "outputId": "e85ab522-2a1f-4093-c8ff-97f100c80ac2"
      },
      "id": "gGJxxKv1Eybx",
      "execution_count": 12,
      "outputs": [
        {
          "output_type": "execute_result",
          "data": {
            "text/plain": [
              "(2, 3)"
            ]
          },
          "metadata": {},
          "execution_count": 12
        }
      ]
    },
    {
      "cell_type": "markdown",
      "source": [
        "# Easy creation"
      ],
      "metadata": {
        "id": "3wij3z9nCSg5"
      },
      "id": "3wij3z9nCSg5"
    },
    {
      "cell_type": "code",
      "source": [
        "np.zeros(5) # five zeros"
      ],
      "metadata": {
        "id": "-Hrx10M_CWLw",
        "colab": {
          "base_uri": "https://localhost:8080/",
          "height": 0
        },
        "outputId": "4dc18c62-ecb2-473b-ccd0-aa933b79510d"
      },
      "id": "-Hrx10M_CWLw",
      "execution_count": 13,
      "outputs": [
        {
          "output_type": "execute_result",
          "data": {
            "text/plain": [
              "array([0., 0., 0., 0., 0.])"
            ]
          },
          "metadata": {},
          "execution_count": 13
        }
      ]
    },
    {
      "cell_type": "code",
      "source": [
        "np.zeros((5,3))"
      ],
      "metadata": {
        "id": "Ph_OtHIbIA1u",
        "colab": {
          "base_uri": "https://localhost:8080/",
          "height": 0
        },
        "outputId": "38b9cda4-de7b-49dd-bc07-418f8cfd17fb"
      },
      "id": "Ph_OtHIbIA1u",
      "execution_count": 14,
      "outputs": [
        {
          "output_type": "execute_result",
          "data": {
            "text/plain": [
              "array([[0., 0., 0.],\n",
              "       [0., 0., 0.],\n",
              "       [0., 0., 0.],\n",
              "       [0., 0., 0.],\n",
              "       [0., 0., 0.]])"
            ]
          },
          "metadata": {},
          "execution_count": 14
        }
      ]
    },
    {
      "cell_type": "code",
      "source": [
        "np.ones(5) #five ones"
      ],
      "metadata": {
        "id": "AovxqrxbH-iE",
        "colab": {
          "base_uri": "https://localhost:8080/",
          "height": 0
        },
        "outputId": "6315de27-9887-4629-94b0-8cebd11fd0e3"
      },
      "id": "AovxqrxbH-iE",
      "execution_count": 15,
      "outputs": [
        {
          "output_type": "execute_result",
          "data": {
            "text/plain": [
              "array([1., 1., 1., 1., 1.])"
            ]
          },
          "metadata": {},
          "execution_count": 15
        }
      ]
    },
    {
      "cell_type": "code",
      "source": [
        "np.ones((5,3)) "
      ],
      "metadata": {
        "id": "g6REpoJnCZbP",
        "colab": {
          "base_uri": "https://localhost:8080/",
          "height": 0
        },
        "outputId": "f177c72b-c48e-47c1-98dd-a6a47bbfbfde"
      },
      "id": "g6REpoJnCZbP",
      "execution_count": 16,
      "outputs": [
        {
          "output_type": "execute_result",
          "data": {
            "text/plain": [
              "array([[1., 1., 1.],\n",
              "       [1., 1., 1.],\n",
              "       [1., 1., 1.],\n",
              "       [1., 1., 1.],\n",
              "       [1., 1., 1.]])"
            ]
          },
          "metadata": {},
          "execution_count": 16
        }
      ]
    },
    {
      "cell_type": "code",
      "source": [
        "np.random.random(5) #five random numbers"
      ],
      "metadata": {
        "id": "N28jSM8gHuK-",
        "colab": {
          "base_uri": "https://localhost:8080/",
          "height": 0
        },
        "outputId": "8e691ba4-d7b2-4816-f29a-2a2a4de6cdb2"
      },
      "id": "N28jSM8gHuK-",
      "execution_count": 17,
      "outputs": [
        {
          "output_type": "execute_result",
          "data": {
            "text/plain": [
              "array([0.30536065, 0.22973528, 0.66966663, 0.89357192, 0.63929042])"
            ]
          },
          "metadata": {},
          "execution_count": 17
        }
      ]
    },
    {
      "cell_type": "code",
      "source": [
        "np.random.random((5, 3))"
      ],
      "metadata": {
        "colab": {
          "base_uri": "https://localhost:8080/",
          "height": 0
        },
        "id": "kamzcBowH1xW",
        "outputId": "5b316d8e-4dbe-4b75-bd10-98ab51f7860f"
      },
      "id": "kamzcBowH1xW",
      "execution_count": 18,
      "outputs": [
        {
          "output_type": "execute_result",
          "data": {
            "text/plain": [
              "array([[0.97896538, 0.57553229, 0.2160487 ],\n",
              "       [0.388458  , 0.02157135, 0.54227384],\n",
              "       [0.24268211, 0.68596133, 0.46000023],\n",
              "       [0.09419877, 0.62279457, 0.06638199],\n",
              "       [0.41548602, 0.12113434, 0.75573921]])"
            ]
          },
          "metadata": {},
          "execution_count": 18
        }
      ]
    },
    {
      "cell_type": "code",
      "source": [
        "np.arange(5) #from zero to four"
      ],
      "metadata": {
        "colab": {
          "base_uri": "https://localhost:8080/",
          "height": 0
        },
        "id": "sjatuCv1ChU2",
        "outputId": "838899ac-1af2-4ae9-fc8b-ea8bd9cdf358"
      },
      "id": "sjatuCv1ChU2",
      "execution_count": 19,
      "outputs": [
        {
          "output_type": "execute_result",
          "data": {
            "text/plain": [
              "array([0, 1, 2, 3, 4])"
            ]
          },
          "metadata": {},
          "execution_count": 19
        }
      ]
    },
    {
      "cell_type": "code",
      "source": [
        "np.arange(2, 9, 2) #(first number, last number, step size)"
      ],
      "metadata": {
        "colab": {
          "base_uri": "https://localhost:8080/",
          "height": 0
        },
        "id": "j0F75weQCqh3",
        "outputId": "354fde83-ffef-40e8-ee05-24cab15b2414"
      },
      "id": "j0F75weQCqh3",
      "execution_count": 20,
      "outputs": [
        {
          "output_type": "execute_result",
          "data": {
            "text/plain": [
              "array([2, 4, 6, 8])"
            ]
          },
          "metadata": {},
          "execution_count": 20
        }
      ]
    },
    {
      "cell_type": "code",
      "source": [
        "np.linspace(0, 10, num =5) #values spaced linearly in a specified interval"
      ],
      "metadata": {
        "colab": {
          "base_uri": "https://localhost:8080/",
          "height": 0
        },
        "id": "oKQf3wmRDCJx",
        "outputId": "2baf78e2-278a-434a-a424-cf390056a5d6"
      },
      "id": "oKQf3wmRDCJx",
      "execution_count": 21,
      "outputs": [
        {
          "output_type": "execute_result",
          "data": {
            "text/plain": [
              "array([ 0. ,  2.5,  5. ,  7.5, 10. ])"
            ]
          },
          "metadata": {},
          "execution_count": 21
        }
      ]
    },
    {
      "cell_type": "markdown",
      "source": [
        "# Sorting and adding"
      ],
      "metadata": {
        "id": "w41r0ldhDj8M"
      },
      "id": "w41r0ldhDj8M"
    },
    {
      "cell_type": "code",
      "source": [
        "arr = np.array([2, 1, 5, 3, 7, 4, 6, 8])"
      ],
      "metadata": {
        "id": "hVlE75O-Dsbd"
      },
      "id": "hVlE75O-Dsbd",
      "execution_count": 22,
      "outputs": []
    },
    {
      "cell_type": "code",
      "source": [
        "np.sort(arr) #sort the numbers in ascending order"
      ],
      "metadata": {
        "colab": {
          "base_uri": "https://localhost:8080/",
          "height": 0
        },
        "id": "8R3TET9LDyBn",
        "outputId": "213415bd-51b3-467e-e5de-1d0759e89e10"
      },
      "id": "8R3TET9LDyBn",
      "execution_count": 23,
      "outputs": [
        {
          "output_type": "execute_result",
          "data": {
            "text/plain": [
              "array([1, 2, 3, 4, 5, 6, 7, 8])"
            ]
          },
          "metadata": {},
          "execution_count": 23
        }
      ]
    },
    {
      "cell_type": "code",
      "source": [
        "a = np.array([1, 2, 3, 4])"
      ],
      "metadata": {
        "id": "v6TfnA7dEB9V"
      },
      "id": "v6TfnA7dEB9V",
      "execution_count": 24,
      "outputs": []
    },
    {
      "cell_type": "code",
      "source": [
        "b = np.array([100, 200, 300, 400])"
      ],
      "metadata": {
        "id": "8zY0jxhaEFgJ"
      },
      "id": "8zY0jxhaEFgJ",
      "execution_count": 25,
      "outputs": []
    },
    {
      "cell_type": "code",
      "source": [
        "np.concatenate((a, b)) #concatenate"
      ],
      "metadata": {
        "colab": {
          "base_uri": "https://localhost:8080/",
          "height": 0
        },
        "id": "iFGDrGawEJca",
        "outputId": "73605db3-ca72-4d95-a568-7b540ca0ef6c"
      },
      "id": "iFGDrGawEJca",
      "execution_count": 26,
      "outputs": [
        {
          "output_type": "execute_result",
          "data": {
            "text/plain": [
              "array([  1,   2,   3,   4, 100, 200, 300, 400])"
            ]
          },
          "metadata": {},
          "execution_count": 26
        }
      ]
    },
    {
      "cell_type": "markdown",
      "source": [
        "# indexing and slicing"
      ],
      "metadata": {
        "id": "27yiBmhVERMs"
      },
      "id": "27yiBmhVERMs"
    },
    {
      "cell_type": "code",
      "source": [
        "data = np.array([1, 2, 3, 4, 5, 6])"
      ],
      "metadata": {
        "id": "785eUznyEOUF"
      },
      "id": "785eUznyEOUF",
      "execution_count": 27,
      "outputs": []
    },
    {
      "cell_type": "code",
      "source": [
        "data[0]"
      ],
      "metadata": {
        "colab": {
          "base_uri": "https://localhost:8080/",
          "height": 0
        },
        "id": "QbxTzcyFFRlf",
        "outputId": "224c23c8-f36a-4d20-be3f-5b043e25aca4"
      },
      "id": "QbxTzcyFFRlf",
      "execution_count": 28,
      "outputs": [
        {
          "output_type": "execute_result",
          "data": {
            "text/plain": [
              "1"
            ]
          },
          "metadata": {},
          "execution_count": 28
        }
      ]
    },
    {
      "cell_type": "code",
      "source": [
        "data[0:4]"
      ],
      "metadata": {
        "colab": {
          "base_uri": "https://localhost:8080/",
          "height": 0
        },
        "id": "hhsLiiHMFbk0",
        "outputId": "02d4309e-811d-4459-9577-2d2225e2700e"
      },
      "id": "hhsLiiHMFbk0",
      "execution_count": 29,
      "outputs": [
        {
          "output_type": "execute_result",
          "data": {
            "text/plain": [
              "array([1, 2, 3, 4])"
            ]
          },
          "metadata": {},
          "execution_count": 29
        }
      ]
    },
    {
      "cell_type": "code",
      "source": [
        "data2 = np.array([[1, 2, 3], [4, 5, 6]])"
      ],
      "metadata": {
        "id": "PIns6g7MFd2z"
      },
      "id": "PIns6g7MFd2z",
      "execution_count": 30,
      "outputs": []
    },
    {
      "cell_type": "code",
      "source": [
        "data2[0] #the first item of data2"
      ],
      "metadata": {
        "colab": {
          "base_uri": "https://localhost:8080/",
          "height": 0
        },
        "id": "HnwkKdSnFlKY",
        "outputId": "2599af14-76b5-4cc7-b736-3ed9a40a648c"
      },
      "id": "HnwkKdSnFlKY",
      "execution_count": 31,
      "outputs": [
        {
          "output_type": "execute_result",
          "data": {
            "text/plain": [
              "array([1, 2, 3])"
            ]
          },
          "metadata": {},
          "execution_count": 31
        }
      ]
    },
    {
      "cell_type": "code",
      "source": [
        "data2[0][0] #the first item of the first item of data2"
      ],
      "metadata": {
        "colab": {
          "base_uri": "https://localhost:8080/",
          "height": 0
        },
        "id": "2JLIAWjzFmhW",
        "outputId": "02c31e42-15f1-45c7-cc77-03bdab0c34e3"
      },
      "id": "2JLIAWjzFmhW",
      "execution_count": 32,
      "outputs": [
        {
          "output_type": "execute_result",
          "data": {
            "text/plain": [
              "1"
            ]
          },
          "metadata": {},
          "execution_count": 32
        }
      ]
    },
    {
      "cell_type": "code",
      "source": [
        "data3 = np.array([[1, 2, 3, 4], [5, 6, 7, 8], [9, 10, 11, 12]])"
      ],
      "metadata": {
        "id": "HeFmX0uvFofi"
      },
      "id": "HeFmX0uvFofi",
      "execution_count": 33,
      "outputs": []
    },
    {
      "cell_type": "code",
      "source": [
        "data3[data3<7] #all the values less than seven"
      ],
      "metadata": {
        "colab": {
          "base_uri": "https://localhost:8080/",
          "height": 0
        },
        "id": "mOhy5w9YF3gc",
        "outputId": "ab331af9-167a-48d7-89c2-f9f9281b8aaf"
      },
      "id": "mOhy5w9YF3gc",
      "execution_count": 34,
      "outputs": [
        {
          "output_type": "execute_result",
          "data": {
            "text/plain": [
              "array([1, 2, 3, 4, 5, 6])"
            ]
          },
          "metadata": {},
          "execution_count": 34
        }
      ]
    },
    {
      "cell_type": "code",
      "source": [
        "data3[data3 % 2 == 0] #all the values that are divisible by 2"
      ],
      "metadata": {
        "colab": {
          "base_uri": "https://localhost:8080/",
          "height": 0
        },
        "id": "Tv7OiRf7F57G",
        "outputId": "950c8d26-ad7a-4230-c54e-63d38ab50f96"
      },
      "id": "Tv7OiRf7F57G",
      "execution_count": 35,
      "outputs": [
        {
          "output_type": "execute_result",
          "data": {
            "text/plain": [
              "array([ 2,  4,  6,  8, 10, 12])"
            ]
          },
          "metadata": {},
          "execution_count": 35
        }
      ]
    },
    {
      "cell_type": "code",
      "source": [
        "data3[(data3 > 11) | (data3 < 3)] #all the values greater than 11 or less than 3"
      ],
      "metadata": {
        "colab": {
          "base_uri": "https://localhost:8080/",
          "height": 0
        },
        "id": "Xg6eqkeRGKId",
        "outputId": "0fa7570e-b733-4421-b7cf-3b1ad8f7fbda"
      },
      "id": "Xg6eqkeRGKId",
      "execution_count": 36,
      "outputs": [
        {
          "output_type": "execute_result",
          "data": {
            "text/plain": [
              "array([ 1,  2, 12])"
            ]
          },
          "metadata": {},
          "execution_count": 36
        }
      ]
    },
    {
      "cell_type": "code",
      "source": [
        "data3[(data3 > 9) & (data3 < 12)] #all the values greater than 9 and less than 12"
      ],
      "metadata": {
        "colab": {
          "base_uri": "https://localhost:8080/",
          "height": 0
        },
        "id": "mZEGl-9MGVmS",
        "outputId": "4114c913-6daf-4825-9c0e-28bfac6fbc6d"
      },
      "id": "mZEGl-9MGVmS",
      "execution_count": 37,
      "outputs": [
        {
          "output_type": "execute_result",
          "data": {
            "text/plain": [
              "array([10, 11])"
            ]
          },
          "metadata": {},
          "execution_count": 37
        }
      ]
    },
    {
      "cell_type": "markdown",
      "source": [
        "#Transposing and reshaping"
      ],
      "metadata": {
        "id": "Qcgk54W3IpNq"
      },
      "id": "Qcgk54W3IpNq"
    },
    {
      "cell_type": "code",
      "source": [
        "data2 #2 rows, 3 cols"
      ],
      "metadata": {
        "colab": {
          "base_uri": "https://localhost:8080/",
          "height": 0
        },
        "id": "0uKfzrONHlhO",
        "outputId": "fa5065b5-3cc2-4010-df47-6039e476ee4f"
      },
      "id": "0uKfzrONHlhO",
      "execution_count": 38,
      "outputs": [
        {
          "output_type": "execute_result",
          "data": {
            "text/plain": [
              "array([[1, 2, 3],\n",
              "       [4, 5, 6]])"
            ]
          },
          "metadata": {},
          "execution_count": 38
        }
      ]
    },
    {
      "cell_type": "code",
      "source": [
        "data2.reshape(3, 2) #3 rows, 2 cols "
      ],
      "metadata": {
        "colab": {
          "base_uri": "https://localhost:8080/",
          "height": 0
        },
        "id": "aQmtE-euGnqr",
        "outputId": "fb76f723-44e6-42c1-8704-33cc5ebee602"
      },
      "id": "aQmtE-euGnqr",
      "execution_count": 39,
      "outputs": [
        {
          "output_type": "execute_result",
          "data": {
            "text/plain": [
              "array([[1, 2],\n",
              "       [3, 4],\n",
              "       [5, 6]])"
            ]
          },
          "metadata": {},
          "execution_count": 39
        }
      ]
    },
    {
      "cell_type": "code",
      "source": [
        "data2.transpose() #compare with the original data2"
      ],
      "metadata": {
        "colab": {
          "base_uri": "https://localhost:8080/",
          "height": 0
        },
        "id": "auYZOsAMI2A1",
        "outputId": "d070c607-f6c7-4ebd-bffa-d0bbf7d963d7"
      },
      "id": "auYZOsAMI2A1",
      "execution_count": 40,
      "outputs": [
        {
          "output_type": "execute_result",
          "data": {
            "text/plain": [
              "array([[1, 4],\n",
              "       [2, 5],\n",
              "       [3, 6]])"
            ]
          },
          "metadata": {},
          "execution_count": 40
        }
      ]
    },
    {
      "cell_type": "code",
      "source": [
        "data2.T #another way of transposing"
      ],
      "metadata": {
        "colab": {
          "base_uri": "https://localhost:8080/",
          "height": 0
        },
        "id": "EcPG72HTJQ4F",
        "outputId": "e6d7b1cb-6992-4734-dd81-4dfd89a9fe09"
      },
      "id": "EcPG72HTJQ4F",
      "execution_count": 41,
      "outputs": [
        {
          "output_type": "execute_result",
          "data": {
            "text/plain": [
              "array([[1, 4],\n",
              "       [2, 5],\n",
              "       [3, 6]])"
            ]
          },
          "metadata": {},
          "execution_count": 41
        }
      ]
    },
    {
      "cell_type": "code",
      "source": [
        "data3 #2D array with 3 rows & 4 cols"
      ],
      "metadata": {
        "colab": {
          "base_uri": "https://localhost:8080/",
          "height": 0
        },
        "id": "-791EIAMJp_P",
        "outputId": "1f34135b-5c6a-420d-c0d3-58a4d89ab309"
      },
      "id": "-791EIAMJp_P",
      "execution_count": 42,
      "outputs": [
        {
          "output_type": "execute_result",
          "data": {
            "text/plain": [
              "array([[ 1,  2,  3,  4],\n",
              "       [ 5,  6,  7,  8],\n",
              "       [ 9, 10, 11, 12]])"
            ]
          },
          "metadata": {},
          "execution_count": 42
        }
      ]
    },
    {
      "cell_type": "code",
      "source": [
        "data3.flatten() #from 2D array to 1D array"
      ],
      "metadata": {
        "colab": {
          "base_uri": "https://localhost:8080/",
          "height": 0
        },
        "id": "njv2ykuZJZpj",
        "outputId": "d657b69b-7185-42b6-b5be-f9dfa6bd0034"
      },
      "id": "njv2ykuZJZpj",
      "execution_count": 43,
      "outputs": [
        {
          "output_type": "execute_result",
          "data": {
            "text/plain": [
              "array([ 1,  2,  3,  4,  5,  6,  7,  8,  9, 10, 11, 12])"
            ]
          },
          "metadata": {},
          "execution_count": 43
        }
      ]
    },
    {
      "cell_type": "markdown",
      "source": [
        "# Visualization"
      ],
      "metadata": {
        "id": "MB9dBPRgKKl8"
      },
      "id": "MB9dBPRgKKl8"
    },
    {
      "cell_type": "code",
      "source": [
        "import matplotlib.pyplot as plt"
      ],
      "metadata": {
        "id": "b7WlR4wuJooY"
      },
      "id": "b7WlR4wuJooY",
      "execution_count": 44,
      "outputs": []
    },
    {
      "cell_type": "code",
      "source": [
        "score = np.array([14, 10, 9, 18, 20, 22])"
      ],
      "metadata": {
        "id": "DioRcFQ2KXc9"
      },
      "id": "DioRcFQ2KXc9",
      "execution_count": 45,
      "outputs": []
    },
    {
      "cell_type": "code",
      "source": [
        "plt.plot(score)"
      ],
      "metadata": {
        "colab": {
          "base_uri": "https://localhost:8080/",
          "height": 282
        },
        "id": "D_Ga3COdKRl1",
        "outputId": "f573f144-d880-43cb-ebe6-ecb237097fc5"
      },
      "id": "D_Ga3COdKRl1",
      "execution_count": 46,
      "outputs": [
        {
          "output_type": "execute_result",
          "data": {
            "text/plain": [
              "[<matplotlib.lines.Line2D at 0x7f5f407ccc50>]"
            ]
          },
          "metadata": {},
          "execution_count": 46
        },
        {
          "output_type": "display_data",
          "data": {
            "text/plain": [
              "<Figure size 432x288 with 1 Axes>"
            ],
            "image/png": "[encoded data removed]"
          },
          "metadata": {
            "needs_background": "light"
          }
        }
      ]
    }
  ],
  "metadata": {
    "kernelspec": {
      "display_name": "Python 3 (ipykernel)",
      "language": "python",
      "name": "python3"
    },
    "language_info": {
      "codemirror_mode": {
        "name": "ipython",
        "version": 3
      },
      "file_extension": ".py",
      "mimetype": "text/x-python",
      "name": "python",
      "nbconvert_exporter": "python",
      "pygments_lexer": "ipython3",
      "version": "3.9.7"
    },
    "colab": {
      "name": "C26_lecture.ipynb",
      "provenance": [],
      "collapsed_sections": []
    }
  },
  "nbformat": 4,
  "nbformat_minor": 5
}