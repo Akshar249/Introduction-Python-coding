{
 "cells": [
  {
   "cell_type": "markdown",
   "metadata": {
    "id": "897e43fe"
   },
   "source": [
    "# C29 - Inclass Assignment (pandas)"
   ]
  },
  {
   "cell_type": "markdown",
   "metadata": {
    "id": "b14a5454"
   },
   "source": [
    "## author & date\n",
    "\n",
    "- author: Akshar Patel\n",
    "- date: 4/27/2022"
   ]
  },
  {
   "cell_type": "markdown",
   "metadata": {
    "id": "PjqV6IKBBe5G"
   },
   "source": [
    "# Q1. Update author name and date"
   ]
  },
  {
   "cell_type": "code",
   "execution_count": 1,
   "metadata": {
    "id": "28544986"
   },
   "outputs": [],
   "source": [
    "# Run this line first\n",
    "\n",
    "import pandas as pd"
   ]
  },
  {
   "cell_type": "markdown",
   "metadata": {
    "id": "42a6unCnH9eT"
   },
   "source": [
    "# Q2. Create a variable `even` that contains a Pandas series of the list [2, 4, 6, 8, 10] "
   ]
  },
  {
   "cell_type": "code",
   "execution_count": 2,
   "metadata": {
    "id": "GoetMkjHMSKO"
   },
   "outputs": [],
   "source": [
    "even = [2, 4, 6, 8, 10]\n"
   ]
  },
  {
   "cell_type": "markdown",
   "metadata": {
    "id": "FEzvnykHOZSn"
   },
   "source": [
    "# Q3. Create a variable `even_indexed` with a list [2, 4, 6, 8, 10] and a list of index [\"s1\", \"s2\", \"s3\", \"s4\", \"s5\"], and print `even_indexed`"
   ]
  },
  {
   "cell_type": "code",
   "execution_count": 3,
   "metadata": {
    "id": "ct3ueWRfPLJp"
   },
   "outputs": [
    {
     "name": "stdout",
     "output_type": "stream",
     "text": [
      "s1     2\n",
      "s2     4\n",
      "s3     6\n",
      "s4     8\n",
      "s5    10\n",
      "dtype: int64\n"
     ]
    }
   ],
   "source": [
    "even_indexed = pd.Series([2, 4, 6, 8, 10], index=[\"s1\", \"s2\", \"s3\", \"s4\", \"s5\"])\n",
    "print(even_indexed)"
   ]
  },
  {
   "cell_type": "markdown",
   "metadata": {
    "id": "UV9MkTtZPqrH"
   },
   "source": [
    "# Q4. Run the following code and find the error message. Copy and paste the error message & interpret the meaning of the error message in your own language."
   ]
  },
  {
   "cell_type": "code",
   "execution_count": 4,
   "metadata": {
    "id": "r7DvCg59PqTD"
   },
   "outputs": [
    {
     "ename": "ValueError",
     "evalue": "Length of passed values is 5, index implies 4.",
     "output_type": "error",
     "traceback": [
      "\u001b[1;31m---------------------------------------------------------------------------\u001b[0m",
      "\u001b[1;31mValueError\u001b[0m                                Traceback (most recent call last)",
      "\u001b[1;32m<ipython-input-4-39db537f58b4>\u001b[0m in \u001b[0;36m<module>\u001b[1;34m\u001b[0m\n\u001b[1;32m----> 1\u001b[1;33m \u001b[0mpd\u001b[0m\u001b[1;33m.\u001b[0m\u001b[0mSeries\u001b[0m\u001b[1;33m(\u001b[0m\u001b[1;33m[\u001b[0m\u001b[1;36m1\u001b[0m\u001b[1;33m,\u001b[0m \u001b[1;36m3\u001b[0m\u001b[1;33m,\u001b[0m \u001b[1;36m5\u001b[0m\u001b[1;33m,\u001b[0m \u001b[1;36m7\u001b[0m\u001b[1;33m,\u001b[0m \u001b[1;36m9\u001b[0m\u001b[1;33m]\u001b[0m\u001b[1;33m,\u001b[0m \u001b[0mindex\u001b[0m\u001b[1;33m=\u001b[0m\u001b[1;33m[\u001b[0m\u001b[1;34m\"A\"\u001b[0m\u001b[1;33m,\u001b[0m \u001b[1;34m\"b\"\u001b[0m\u001b[1;33m,\u001b[0m \u001b[1;34m\"C\"\u001b[0m\u001b[1;33m,\u001b[0m \u001b[1;34m\"d\"\u001b[0m\u001b[1;33m]\u001b[0m\u001b[1;33m)\u001b[0m\u001b[1;33m\u001b[0m\u001b[1;33m\u001b[0m\u001b[0m\n\u001b[0m\u001b[0;32m      2\u001b[0m \u001b[1;33m\u001b[0m\u001b[0m\n\u001b[0;32m      3\u001b[0m \u001b[1;31m# error message: Length of passed values is 5, index implies 4.\u001b[0m\u001b[1;33m\u001b[0m\u001b[1;33m\u001b[0m\u001b[1;33m\u001b[0m\u001b[0m\n\u001b[0;32m      4\u001b[0m \u001b[1;33m\u001b[0m\u001b[0m\n\u001b[0;32m      5\u001b[0m \u001b[1;31m# interpretation: Length of values (5) does not match length of index (4)\u001b[0m\u001b[1;33m\u001b[0m\u001b[1;33m\u001b[0m\u001b[1;33m\u001b[0m\u001b[0m\n",
      "\u001b[1;32mC:\\ProgramData\\Anaconda3\\lib\\site-packages\\pandas\\core\\series.py\u001b[0m in \u001b[0;36m__init__\u001b[1;34m(self, data, index, dtype, name, copy, fastpath)\u001b[0m\n\u001b[0;32m    348\u001b[0m                 \u001b[1;32mtry\u001b[0m\u001b[1;33m:\u001b[0m\u001b[1;33m\u001b[0m\u001b[1;33m\u001b[0m\u001b[0m\n\u001b[0;32m    349\u001b[0m                     \u001b[1;32mif\u001b[0m \u001b[0mlen\u001b[0m\u001b[1;33m(\u001b[0m\u001b[0mindex\u001b[0m\u001b[1;33m)\u001b[0m \u001b[1;33m!=\u001b[0m \u001b[0mlen\u001b[0m\u001b[1;33m(\u001b[0m\u001b[0mdata\u001b[0m\u001b[1;33m)\u001b[0m\u001b[1;33m:\u001b[0m\u001b[1;33m\u001b[0m\u001b[1;33m\u001b[0m\u001b[0m\n\u001b[1;32m--> 350\u001b[1;33m                         raise ValueError(\n\u001b[0m\u001b[0;32m    351\u001b[0m                             \u001b[1;34mf\"Length of passed values is {len(data)}, \"\u001b[0m\u001b[1;33m\u001b[0m\u001b[1;33m\u001b[0m\u001b[0m\n\u001b[0;32m    352\u001b[0m                             \u001b[1;34mf\"index implies {len(index)}.\"\u001b[0m\u001b[1;33m\u001b[0m\u001b[1;33m\u001b[0m\u001b[0m\n",
      "\u001b[1;31mValueError\u001b[0m: Length of passed values is 5, index implies 4."
     ]
    }
   ],
   "source": [
    "pd.Series([1, 3, 5, 7, 9], index=[\"A\", \"b\", \"C\", \"d\"])\n",
    "\n",
    "# error message: Length of passed values is 5, index implies 4.\n",
    "\n",
    "# interpretation: Length of values (5) does not match length of index (4)"
   ]
  },
  {
   "cell_type": "markdown",
   "metadata": {
    "id": "BUgO0O2RRG-t"
   },
   "source": [
    "# Run the following chunk for Q5"
   ]
  },
  {
   "cell_type": "code",
   "execution_count": 13,
   "metadata": {
    "id": "YNlJ7J3IVJx0"
   },
   "outputs": [],
   "source": [
    "dict_a = {\"today\": 5, \"yesterday\": 7, \"tomorrow\": 1} \n",
    "series_a = pd.Series(dict_a)"
   ]
  },
  {
   "cell_type": "markdown",
   "metadata": {
    "id": "wOlWE65iVSe2"
   },
   "source": [
    "# Q5. A line of code to return the value of `yesterday`"
   ]
  },
  {
   "cell_type": "code",
   "execution_count": 14,
   "metadata": {
    "id": "8MJRJ_9EVQHf"
   },
   "outputs": [
    {
     "data": {
      "text/plain": [
       "7"
      ]
     },
     "execution_count": 14,
     "metadata": {},
     "output_type": "execute_result"
    }
   ],
   "source": [
    "series_a[\"yesterday\"]"
   ]
  },
  {
   "cell_type": "markdown",
   "metadata": {
    "id": "v1Ke5HgSgSvv"
   },
   "source": [
    "# Run the following chunk for Q6"
   ]
  },
  {
   "cell_type": "code",
   "execution_count": 18,
   "metadata": {
    "id": "l7BfVRlbgTJo"
   },
   "outputs": [],
   "source": [
    "item_dict = {\n",
    "    \"item1\": pd.Series(['one', 'two', 3, 'four'], index=[\"a\", \"b\", \"c\", \"d\"]),\n",
    "    \"item2\": pd.Series([5, 6, \"seven\", 8], index=[\"a\", \"b\", \"c\", \"d\"]),\n",
    "}"
   ]
  },
  {
   "cell_type": "markdown",
   "metadata": {
    "id": "wBjlYEShW3HH"
   },
   "source": [
    "#Q6. Create a pandas dataframe `item_df` by passing `item_dict`, and print it."
   ]
  },
  {
   "cell_type": "code",
   "execution_count": 22,
   "metadata": {
    "id": "MD8iAmppgxIq"
   },
   "outputs": [
    {
     "name": "stdout",
     "output_type": "stream",
     "text": [
      "  item1  item2\n",
      "a   one      5\n",
      "b   two      6\n",
      "c     3  seven\n",
      "d  four      8\n"
     ]
    }
   ],
   "source": [
    "item_df = pd.DataFrame(item_dict)\n",
    "print(item_df)"
   ]
  },
  {
   "cell_type": "markdown",
   "metadata": {
    "id": "zqsTx0cqhS-g"
   },
   "source": [
    "Q7. Two ways of selecting `item1` column of `item_df`"
   ]
  },
  {
   "cell_type": "code",
   "execution_count": 23,
   "metadata": {
    "id": "ZV_JNBvtintl"
   },
   "outputs": [
    {
     "data": {
      "text/plain": [
       "a     one\n",
       "b     two\n",
       "c       3\n",
       "d    four\n",
       "Name: item1, dtype: object"
      ]
     },
     "execution_count": 23,
     "metadata": {},
     "output_type": "execute_result"
    }
   ],
   "source": [
    "item_df.item1"
   ]
  },
  {
   "cell_type": "code",
   "execution_count": 24,
   "metadata": {
    "id": "FSIhNouLitHG"
   },
   "outputs": [
    {
     "data": {
      "text/plain": [
       "a     one\n",
       "b     two\n",
       "c       3\n",
       "d    four\n",
       "Name: item1, dtype: object"
      ]
     },
     "execution_count": 24,
     "metadata": {},
     "output_type": "execute_result"
    }
   ],
   "source": [
    "item_df['item1']"
   ]
  },
  {
   "cell_type": "markdown",
   "metadata": {
    "id": "RYFxa5P8i3Ay"
   },
   "source": [
    "# Q8. A line of code to select the row `c` only using the row name"
   ]
  },
  {
   "cell_type": "code",
   "execution_count": 25,
   "metadata": {
    "colab": {
     "base_uri": "https://localhost:8080/"
    },
    "executionInfo": {
     "elapsed": 247,
     "status": "ok",
     "timestamp": 1651071819241,
     "user": {
      "displayName": "Jaewan Lim",
      "userId": "14126230004622327192"
     },
     "user_tz": 240
    },
    "id": "SZ6LqTXsjDUD",
    "outputId": "6bb49216-524c-46e7-ecde-cfef14cbc8ce"
   },
   "outputs": [
    {
     "data": {
      "text/plain": [
       "item1        3\n",
       "item2    seven\n",
       "Name: c, dtype: object"
      ]
     },
     "execution_count": 25,
     "metadata": {},
     "output_type": "execute_result"
    }
   ],
   "source": [
    "item_df.loc['c']"
   ]
  },
  {
   "cell_type": "markdown",
   "metadata": {
    "id": "HyOvxhsajMhv"
   },
   "source": [
    "# Q9. A line of code to select the row `c` only using the index number"
   ]
  },
  {
   "cell_type": "code",
   "execution_count": 33,
   "metadata": {
    "colab": {
     "base_uri": "https://localhost:8080/"
    },
    "executionInfo": {
     "elapsed": 251,
     "status": "ok",
     "timestamp": 1651071928904,
     "user": {
      "displayName": "Jaewan Lim",
      "userId": "14126230004622327192"
     },
     "user_tz": 240
    },
    "id": "91ZevDRLjhGa",
    "outputId": "0b59d754-5f99-45ae-f15b-d46d4fc26aa0"
   },
   "outputs": [
    {
     "data": {
      "text/plain": [
       "item1        3\n",
       "item2    seven\n",
       "Name: c, dtype: object"
      ]
     },
     "execution_count": 33,
     "metadata": {},
     "output_type": "execute_result"
    }
   ],
   "source": [
    "item_df.iloc[2]"
   ]
  },
  {
   "cell_type": "markdown",
   "metadata": {
    "id": "-tqtztLMkY7g"
   },
   "source": [
    "# Run the following code for Q10. If you don't have `payment.csv` file, please download it from the last Hands-on Assignment and upload it to your Jupyter working directory."
   ]
  },
  {
   "cell_type": "code",
   "execution_count": 30,
   "metadata": {
    "id": "Twj8BWT1jzTx"
   },
   "outputs": [],
   "source": [
    "payment = pd.read_csv(\"payment.csv\")"
   ]
  },
  {
   "cell_type": "markdown",
   "metadata": {
    "id": "P2_UQCBKjoOK"
   },
   "source": [
    "# Q10. A line of code to display a scatter plot. X-axis is `age` column, and y-axis is `payment` column."
   ]
  },
  {
   "cell_type": "code",
   "execution_count": 31,
   "metadata": {
    "id": "1m1F-0Osjn9D"
   },
   "outputs": [
    {
     "data": {
      "text/plain": [
       "<AxesSubplot:xlabel='age', ylabel='payment'>"
      ]
     },
     "execution_count": 31,
     "metadata": {},
     "output_type": "execute_result"
    },
    {
     "data": {
      "image/png": "[encoded data removed]",
      "text/plain": [
       "<Figure size 432x288 with 1 Axes>"
      ]
     },
     "metadata": {
      "needs_background": "light"
     },
     "output_type": "display_data"
    }
   ],
   "source": [
    "payment.plot.scatter(x=\"age\", y= \"payment\")"
   ]
  }
 ],
 "metadata": {
  "colab": {
   "collapsed_sections": [],
   "name": "C29_inclass.ipynb",
   "provenance": []
  },
  "kernelspec": {
   "display_name": "Python 3",
   "language": "python",
   "name": "python3"
  },
  "language_info": {
   "codemirror_mode": {
    "name": "ipython",
    "version": 3
   },
   "file_extension": ".py",
   "mimetype": "text/x-python",
   "name": "python",
   "nbconvert_exporter": "python",
   "pygments_lexer": "ipython3",
   "version": "3.8.8"
  }
 },
 "nbformat": 4,
 "nbformat_minor": 1
}
